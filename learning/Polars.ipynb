{
 "cells": [
  {
   "cell_type": "code",
   "execution_count": 24,
   "metadata": {},
   "outputs": [],
   "source": [
    "import polars as pl"
   ]
  },
  {
   "cell_type": "code",
   "execution_count": 25,
   "metadata": {},
   "outputs": [
    {
     "data": {
      "text/html": [
       "<div><style>\n",
       ".dataframe > thead > tr,\n",
       ".dataframe > tbody > tr {\n",
       "  text-align: right;\n",
       "  white-space: pre-wrap;\n",
       "}\n",
       "</style>\n",
       "<small>shape: (6, 5)</small><table border=\"1\" class=\"dataframe\"><thead><tr><th>grp</th><th>x</th><th>y</th><th>z</th><th>ref</th></tr><tr><td>i64</td><td>i64</td><td>i64</td><td>i64</td><td>str</td></tr></thead><tbody><tr><td>1</td><td>6</td><td>8</td><td>3</td><td>&quot;a&quot;</td></tr><tr><td>2</td><td>5</td><td>9</td><td>4</td><td>&quot;b&quot;</td></tr><tr><td>1</td><td>4</td><td>10</td><td>5</td><td>&quot;c&quot;</td></tr><tr><td>2</td><td>3</td><td>11</td><td>6</td><td>&quot;d&quot;</td></tr><tr><td>1</td><td>2</td><td>12</td><td>7</td><td>&quot;e&quot;</td></tr><tr><td>2</td><td>1</td><td>13</td><td>null</td><td>&quot;f&quot;</td></tr></tbody></table></div>"
      ],
      "text/plain": [
       "shape: (6, 5)\n",
       "┌─────┬─────┬─────┬──────┬─────┐\n",
       "│ grp ┆ x   ┆ y   ┆ z    ┆ ref │\n",
       "│ --- ┆ --- ┆ --- ┆ ---  ┆ --- │\n",
       "│ i64 ┆ i64 ┆ i64 ┆ i64  ┆ str │\n",
       "╞═════╪═════╪═════╪══════╪═════╡\n",
       "│ 1   ┆ 6   ┆ 8   ┆ 3    ┆ a   │\n",
       "│ 2   ┆ 5   ┆ 9   ┆ 4    ┆ b   │\n",
       "│ 1   ┆ 4   ┆ 10  ┆ 5    ┆ c   │\n",
       "│ 2   ┆ 3   ┆ 11  ┆ 6    ┆ d   │\n",
       "│ 1   ┆ 2   ┆ 12  ┆ 7    ┆ e   │\n",
       "│ 2   ┆ 1   ┆ 13  ┆ null ┆ f   │\n",
       "└─────┴─────┴─────┴──────┴─────┘"
      ]
     },
     "execution_count": 25,
     "metadata": {},
     "output_type": "execute_result"
    }
   ],
   "source": [
    "# create a dataframe\n",
    "\n",
    "df = pl.DataFrame( {\n",
    "        'grp': [1, 2, 1, 2, 1, 2],\n",
    "        'x': list(range(6, 0, -1)),\n",
    "        'y': list(range(8, 14)),\n",
    "        'z': [3, 4, 5, 6, 7, None],\n",
    "        \"ref\" : list('abcdef') \n",
    "    }\n",
    ")\n",
    "\n",
    "df"
   ]
  },
  {
   "cell_type": "code",
   "execution_count": 26,
   "metadata": {},
   "outputs": [
    {
     "data": {
      "text/html": [
       "<div><style>\n",
       ".dataframe > thead > tr,\n",
       ".dataframe > tbody > tr {\n",
       "  text-align: right;\n",
       "  white-space: pre-wrap;\n",
       "}\n",
       "</style>\n",
       "<small>shape: (6, 2)</small><table border=\"1\" class=\"dataframe\"><thead><tr><th>x</th><th>y</th></tr><tr><td>f64</td><td>f64</td></tr></thead><tbody><tr><td>6.0</td><td>8.0</td></tr><tr><td>5.0</td><td>9.0</td></tr><tr><td>4.0</td><td>10.0</td></tr><tr><td>3.0</td><td>11.0</td></tr><tr><td>2.0</td><td>12.0</td></tr><tr><td>1.0</td><td>13.0</td></tr></tbody></table></div>"
      ],
      "text/plain": [
       "shape: (6, 2)\n",
       "┌─────┬──────┐\n",
       "│ x   ┆ y    │\n",
       "│ --- ┆ ---  │\n",
       "│ f64 ┆ f64  │\n",
       "╞═════╪══════╡\n",
       "│ 6.0 ┆ 8.0  │\n",
       "│ 5.0 ┆ 9.0  │\n",
       "│ 4.0 ┆ 10.0 │\n",
       "│ 3.0 ┆ 11.0 │\n",
       "│ 2.0 ┆ 12.0 │\n",
       "│ 1.0 ┆ 13.0 │\n",
       "└─────┴──────┘"
      ]
     },
     "execution_count": 26,
     "metadata": {},
     "output_type": "execute_result"
    }
   ],
   "source": [
    "# Selecting and transforming\n",
    "\n",
    "# select some columns\n",
    "df.select(\"x\", \"y\")\n",
    "\n",
    "# select and transform\n",
    "df.select(pl.col(\"x\", \"y\").cast(pl.Float64))\n"
   ]
  },
  {
   "cell_type": "code",
   "execution_count": 27,
   "metadata": {},
   "outputs": [
    {
     "data": {
      "text/html": [
       "<div><style>\n",
       ".dataframe > thead > tr,\n",
       ".dataframe > tbody > tr {\n",
       "  text-align: right;\n",
       "  white-space: pre-wrap;\n",
       "}\n",
       "</style>\n",
       "<small>shape: (6, 6)</small><table border=\"1\" class=\"dataframe\"><thead><tr><th>grp</th><th>x</th><th>y</th><th>z</th><th>ref</th><th>w</th></tr><tr><td>i64</td><td>i64</td><td>i64</td><td>i64</td><td>str</td><td>i64</td></tr></thead><tbody><tr><td>1</td><td>6</td><td>8</td><td>3</td><td>&quot;a&quot;</td><td>14</td></tr><tr><td>2</td><td>5</td><td>9</td><td>4</td><td>&quot;b&quot;</td><td>14</td></tr><tr><td>1</td><td>4</td><td>10</td><td>5</td><td>&quot;c&quot;</td><td>14</td></tr><tr><td>2</td><td>3</td><td>11</td><td>6</td><td>&quot;d&quot;</td><td>14</td></tr><tr><td>1</td><td>2</td><td>12</td><td>7</td><td>&quot;e&quot;</td><td>14</td></tr><tr><td>2</td><td>1</td><td>13</td><td>null</td><td>&quot;f&quot;</td><td>14</td></tr></tbody></table></div>"
      ],
      "text/plain": [
       "shape: (6, 6)\n",
       "┌─────┬─────┬─────┬──────┬─────┬─────┐\n",
       "│ grp ┆ x   ┆ y   ┆ z    ┆ ref ┆ w   │\n",
       "│ --- ┆ --- ┆ --- ┆ ---  ┆ --- ┆ --- │\n",
       "│ i64 ┆ i64 ┆ i64 ┆ i64  ┆ str ┆ i64 │\n",
       "╞═════╪═════╪═════╪══════╪═════╪═════╡\n",
       "│ 1   ┆ 6   ┆ 8   ┆ 3    ┆ a   ┆ 14  │\n",
       "│ 2   ┆ 5   ┆ 9   ┆ 4    ┆ b   ┆ 14  │\n",
       "│ 1   ┆ 4   ┆ 10  ┆ 5    ┆ c   ┆ 14  │\n",
       "│ 2   ┆ 3   ┆ 11  ┆ 6    ┆ d   ┆ 14  │\n",
       "│ 1   ┆ 2   ┆ 12  ┆ 7    ┆ e   ┆ 14  │\n",
       "│ 2   ┆ 1   ┆ 13  ┆ null ┆ f   ┆ 14  │\n",
       "└─────┴─────┴─────┴──────┴─────┴─────┘"
      ]
     },
     "execution_count": 27,
     "metadata": {},
     "output_type": "execute_result"
    }
   ],
   "source": [
    "\n",
    "# Adding\n",
    "\n",
    "# add a column from constant\n",
    "df.with_columns(pl.lit(2).alias(\"w\"))\n",
    "\n",
    "# add column from list\n",
    "df.with_columns(pl.Series(\"v\", list(range(1,7))))\n",
    "\n",
    "# add a column from other columns\n",
    "df.with_columns(w = pl.col(\"x\") + pl.col(\"y\"))\n"
   ]
  },
  {
   "cell_type": "code",
   "execution_count": 28,
   "metadata": {},
   "outputs": [
    {
     "name": "stdout",
     "output_type": "stream",
     "text": [
      "shape: (6, 5)\n",
      "┌─────┬─────┬─────┬──────┬─────┐\n",
      "│ grp ┆ x   ┆ y   ┆ z    ┆ ref │\n",
      "│ --- ┆ --- ┆ --- ┆ ---  ┆ --- │\n",
      "│ i64 ┆ i64 ┆ i64 ┆ i64  ┆ str │\n",
      "╞═════╪═════╪═════╪══════╪═════╡\n",
      "│ 1   ┆ 6   ┆ 8   ┆ 3    ┆ a   │\n",
      "│ 2   ┆ 5   ┆ 9   ┆ 4    ┆ b   │\n",
      "│ 1   ┆ 4   ┆ 10  ┆ 5    ┆ c   │\n",
      "│ 2   ┆ 3   ┆ 11  ┆ 6    ┆ d   │\n",
      "│ 1   ┆ 2   ┆ 12  ┆ 7    ┆ e   │\n",
      "│ 2   ┆ 1   ┆ 13  ┆ null ┆ f   │\n",
      "└─────┴─────┴─────┴──────┴─────┘\n"
     ]
    }
   ],
   "source": [
    "# modifiying\n",
    "\n",
    "# select and transform\n",
    "df.select(pl.col(\"x\", \"y\").cast(pl.Float64))\n",
    "\n",
    "# change dtype of a column\n",
    "df.with_columns(pl.col(\"x\").cast(pl.Float64))\n",
    "\n",
    "# rename a column\n",
    "df.rename({\"ref\":\"character\"})\n",
    "\n",
    "# drop a column\n",
    "df.drop(\"x\")\n",
    "\n",
    "# sort\n",
    "df.sort(\"x\")\n",
    "\n",
    "# copying\n",
    "df2 = df.clone()\n",
    "print(df2)"
   ]
  }
 ],
 "metadata": {
  "kernelspec": {
   "display_name": "jupyter-venv",
   "language": "python",
   "name": "python3"
  },
  "language_info": {
   "codemirror_mode": {
    "name": "ipython",
    "version": 3
   },
   "file_extension": ".py",
   "mimetype": "text/x-python",
   "name": "python",
   "nbconvert_exporter": "python",
   "pygments_lexer": "ipython3",
   "version": "3.11.7"
  }
 },
 "nbformat": 4,
 "nbformat_minor": 2
}
